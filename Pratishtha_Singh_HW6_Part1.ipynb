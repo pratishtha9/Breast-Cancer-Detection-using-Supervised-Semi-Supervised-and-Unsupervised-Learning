{
 "cells": [
  {
   "cell_type": "markdown",
   "metadata": {},
   "source": [
    "# Pratishtha Singh-8927578830"
   ]
  },
  {
   "cell_type": "markdown",
   "metadata": {},
   "source": [
    "## 1. Supervised, Semi-Supervised, and Unsupervised Learning"
   ]
  },
  {
   "cell_type": "markdown",
   "metadata": {},
   "source": [
    "### (a) Test Train Split"
   ]
  },
  {
   "cell_type": "code",
   "execution_count": 567,
   "metadata": {},
   "outputs": [
    {
     "data": {
      "text/html": [
       "<div>\n",
       "<style scoped>\n",
       "    .dataframe tbody tr th:only-of-type {\n",
       "        vertical-align: middle;\n",
       "    }\n",
       "\n",
       "    .dataframe tbody tr th {\n",
       "        vertical-align: top;\n",
       "    }\n",
       "\n",
       "    .dataframe thead th {\n",
       "        text-align: right;\n",
       "    }\n",
       "</style>\n",
       "<table border=\"1\" class=\"dataframe\">\n",
       "  <thead>\n",
       "    <tr style=\"text-align: right;\">\n",
       "      <th></th>\n",
       "      <th>diagnosis</th>\n",
       "      <th>radius_mean</th>\n",
       "      <th>texture_mean</th>\n",
       "      <th>perimeter_mean</th>\n",
       "      <th>area_mean</th>\n",
       "      <th>smoothness_mean</th>\n",
       "      <th>compactness_mean</th>\n",
       "      <th>concavity_mean</th>\n",
       "      <th>concave points_mean</th>\n",
       "      <th>symmetry_mean</th>\n",
       "      <th>...</th>\n",
       "      <th>radius_worst</th>\n",
       "      <th>texture_worst</th>\n",
       "      <th>perimeter_worst</th>\n",
       "      <th>area_worst</th>\n",
       "      <th>smoothness_worst</th>\n",
       "      <th>compactness_worst</th>\n",
       "      <th>concavity_worst</th>\n",
       "      <th>concave points_worst</th>\n",
       "      <th>symmetry_worst</th>\n",
       "      <th>fractal_dimension_worst</th>\n",
       "    </tr>\n",
       "  </thead>\n",
       "  <tbody>\n",
       "    <tr>\n",
       "      <th>0</th>\n",
       "      <td>1</td>\n",
       "      <td>17.99</td>\n",
       "      <td>10.38</td>\n",
       "      <td>122.80</td>\n",
       "      <td>1001.0</td>\n",
       "      <td>0.11840</td>\n",
       "      <td>0.27760</td>\n",
       "      <td>0.3001</td>\n",
       "      <td>0.14710</td>\n",
       "      <td>0.2419</td>\n",
       "      <td>...</td>\n",
       "      <td>25.38</td>\n",
       "      <td>17.33</td>\n",
       "      <td>184.60</td>\n",
       "      <td>2019.0</td>\n",
       "      <td>0.1622</td>\n",
       "      <td>0.6656</td>\n",
       "      <td>0.7119</td>\n",
       "      <td>0.2654</td>\n",
       "      <td>0.4601</td>\n",
       "      <td>0.11890</td>\n",
       "    </tr>\n",
       "    <tr>\n",
       "      <th>1</th>\n",
       "      <td>1</td>\n",
       "      <td>20.57</td>\n",
       "      <td>17.77</td>\n",
       "      <td>132.90</td>\n",
       "      <td>1326.0</td>\n",
       "      <td>0.08474</td>\n",
       "      <td>0.07864</td>\n",
       "      <td>0.0869</td>\n",
       "      <td>0.07017</td>\n",
       "      <td>0.1812</td>\n",
       "      <td>...</td>\n",
       "      <td>24.99</td>\n",
       "      <td>23.41</td>\n",
       "      <td>158.80</td>\n",
       "      <td>1956.0</td>\n",
       "      <td>0.1238</td>\n",
       "      <td>0.1866</td>\n",
       "      <td>0.2416</td>\n",
       "      <td>0.1860</td>\n",
       "      <td>0.2750</td>\n",
       "      <td>0.08902</td>\n",
       "    </tr>\n",
       "    <tr>\n",
       "      <th>2</th>\n",
       "      <td>1</td>\n",
       "      <td>19.69</td>\n",
       "      <td>21.25</td>\n",
       "      <td>130.00</td>\n",
       "      <td>1203.0</td>\n",
       "      <td>0.10960</td>\n",
       "      <td>0.15990</td>\n",
       "      <td>0.1974</td>\n",
       "      <td>0.12790</td>\n",
       "      <td>0.2069</td>\n",
       "      <td>...</td>\n",
       "      <td>23.57</td>\n",
       "      <td>25.53</td>\n",
       "      <td>152.50</td>\n",
       "      <td>1709.0</td>\n",
       "      <td>0.1444</td>\n",
       "      <td>0.4245</td>\n",
       "      <td>0.4504</td>\n",
       "      <td>0.2430</td>\n",
       "      <td>0.3613</td>\n",
       "      <td>0.08758</td>\n",
       "    </tr>\n",
       "    <tr>\n",
       "      <th>3</th>\n",
       "      <td>1</td>\n",
       "      <td>11.42</td>\n",
       "      <td>20.38</td>\n",
       "      <td>77.58</td>\n",
       "      <td>386.1</td>\n",
       "      <td>0.14250</td>\n",
       "      <td>0.28390</td>\n",
       "      <td>0.2414</td>\n",
       "      <td>0.10520</td>\n",
       "      <td>0.2597</td>\n",
       "      <td>...</td>\n",
       "      <td>14.91</td>\n",
       "      <td>26.50</td>\n",
       "      <td>98.87</td>\n",
       "      <td>567.7</td>\n",
       "      <td>0.2098</td>\n",
       "      <td>0.8663</td>\n",
       "      <td>0.6869</td>\n",
       "      <td>0.2575</td>\n",
       "      <td>0.6638</td>\n",
       "      <td>0.17300</td>\n",
       "    </tr>\n",
       "    <tr>\n",
       "      <th>4</th>\n",
       "      <td>1</td>\n",
       "      <td>20.29</td>\n",
       "      <td>14.34</td>\n",
       "      <td>135.10</td>\n",
       "      <td>1297.0</td>\n",
       "      <td>0.10030</td>\n",
       "      <td>0.13280</td>\n",
       "      <td>0.1980</td>\n",
       "      <td>0.10430</td>\n",
       "      <td>0.1809</td>\n",
       "      <td>...</td>\n",
       "      <td>22.54</td>\n",
       "      <td>16.67</td>\n",
       "      <td>152.20</td>\n",
       "      <td>1575.0</td>\n",
       "      <td>0.1374</td>\n",
       "      <td>0.2050</td>\n",
       "      <td>0.4000</td>\n",
       "      <td>0.1625</td>\n",
       "      <td>0.2364</td>\n",
       "      <td>0.07678</td>\n",
       "    </tr>\n",
       "  </tbody>\n",
       "</table>\n",
       "<p>5 rows × 31 columns</p>\n",
       "</div>"
      ],
      "text/plain": [
       "   diagnosis  radius_mean  texture_mean  perimeter_mean  area_mean  \\\n",
       "0          1        17.99         10.38          122.80     1001.0   \n",
       "1          1        20.57         17.77          132.90     1326.0   \n",
       "2          1        19.69         21.25          130.00     1203.0   \n",
       "3          1        11.42         20.38           77.58      386.1   \n",
       "4          1        20.29         14.34          135.10     1297.0   \n",
       "\n",
       "   smoothness_mean  compactness_mean  concavity_mean  concave points_mean  \\\n",
       "0          0.11840           0.27760          0.3001              0.14710   \n",
       "1          0.08474           0.07864          0.0869              0.07017   \n",
       "2          0.10960           0.15990          0.1974              0.12790   \n",
       "3          0.14250           0.28390          0.2414              0.10520   \n",
       "4          0.10030           0.13280          0.1980              0.10430   \n",
       "\n",
       "   symmetry_mean  ...  radius_worst  texture_worst  perimeter_worst  \\\n",
       "0         0.2419  ...         25.38          17.33           184.60   \n",
       "1         0.1812  ...         24.99          23.41           158.80   \n",
       "2         0.2069  ...         23.57          25.53           152.50   \n",
       "3         0.2597  ...         14.91          26.50            98.87   \n",
       "4         0.1809  ...         22.54          16.67           152.20   \n",
       "\n",
       "   area_worst  smoothness_worst  compactness_worst  concavity_worst  \\\n",
       "0      2019.0            0.1622             0.6656           0.7119   \n",
       "1      1956.0            0.1238             0.1866           0.2416   \n",
       "2      1709.0            0.1444             0.4245           0.4504   \n",
       "3       567.7            0.2098             0.8663           0.6869   \n",
       "4      1575.0            0.1374             0.2050           0.4000   \n",
       "\n",
       "   concave points_worst  symmetry_worst  fractal_dimension_worst  \n",
       "0                0.2654          0.4601                  0.11890  \n",
       "1                0.1860          0.2750                  0.08902  \n",
       "2                0.2430          0.3613                  0.08758  \n",
       "3                0.2575          0.6638                  0.17300  \n",
       "4                0.1625          0.2364                  0.07678  \n",
       "\n",
       "[5 rows x 31 columns]"
      ]
     },
     "execution_count": 567,
     "metadata": {},
     "output_type": "execute_result"
    }
   ],
   "source": [
    "import pandas as pd\n",
    "import numpy as np\n",
    "import matplotlib.pyplot as plt\n",
    "from sklearn.model_selection import train_test_split\n",
    "from sklearn.model_selection import GridSearchCV\n",
    "from sklearn.model_selection import cross_val_score\n",
    "import warnings\n",
    "warnings.filterwarnings(action='ignore')\n",
    "from sklearn import svm\n",
    "from sklearn import preprocessing\n",
    "from sklearn.metrics import accuracy_score\n",
    "from sklearn.metrics import precision_score\n",
    "from sklearn.metrics import recall_score\n",
    "from sklearn.metrics import f1_score\n",
    "from sklearn.metrics import roc_auc_score\n",
    "from sklearn.metrics import roc_curve, auc\n",
    "from sklearn.calibration import CalibratedClassifierCV\n",
    "from sklearn.metrics import classification_report, confusion_matrix\n",
    "cols=['diagnosis','radius_mean','texture_mean','perimeter_mean','area_mean','smoothness_mean','compactness_mean',\n",
    "      'concavity_mean','concave points_mean','symmetry_mean','fractal_dimension_mean','radius_se','texture_se','perimeter_se',\n",
    "     'area_se', 'smoothness_se','compactness_se','concavity_se','concave points_se','symmetry_se','fractal_dimension_se',\n",
    "      'radius_worst','texture_worst','perimeter_worst','area_worst','smoothness_worst','compactness_worst','concavity_worst',\n",
    "     'concave points_worst','symmetry_worst','fractal_dimension_worst']\n",
    "df=pd.read_csv(\"breast_cancer_data.csv\",usecols=cols)\n",
    "df['diagnosis']=df['diagnosis'].map({'M':1,'B':0})\n",
    "df.head()"
   ]
  },
  {
   "cell_type": "code",
   "execution_count": 241,
   "metadata": {},
   "outputs": [
    {
     "name": "stdout",
     "output_type": "stream",
     "text": [
      "0    357\n",
      "1    212\n",
      "Name: diagnosis, dtype: int64\n"
     ]
    }
   ],
   "source": [
    "print(df[\"diagnosis\"].value_counts())"
   ]
  },
  {
   "cell_type": "code",
   "execution_count": 246,
   "metadata": {},
   "outputs": [],
   "source": [
    "def test_train_split(df,M_pos,B_neg):\n",
    "    malignant_data = df.loc[df[\"diagnosis\"] == 1]    \n",
    "    benign_data = df.loc[df[\"diagnosis\"] == 0]\n",
    "    test_data=pd.concat([malignant_data.head(M_pos),benign_data.head(B_neg)])\n",
    "    train_data=pd.concat([malignant_data.tail(malignant_data.shape[0]-M_pos),benign_data.tail(benign_data.shape[0]-B_neg)])\n",
    "    return train_data,test_data\n",
    "train_data,test_data=test_train_split(df,43,72)\n",
    "train_y=train_data.iloc[:,0:1]\n",
    "train_x=train_data.iloc[:,1:31]\n",
    "test_y=test_data.iloc[:,0:1]\n",
    "test_x=test_data.iloc[:,1:31]"
   ]
  },
  {
   "cell_type": "markdown",
   "metadata": {},
   "source": [
    "### (b) (i) Monte-Carlo Simulation-Supervised Learning"
   ]
  },
  {
   "cell_type": "code",
   "execution_count": 729,
   "metadata": {
    "scrolled": true
   },
   "outputs": [
    {
     "name": "stdout",
     "output_type": "stream",
     "text": [
      "Average Accuracy Score on Train Data= 0.962207602339181\n",
      "Average Accuracy Score on Test Data= 0.9427728613569323\n",
      "Average Precision Score on Train Data= 0.9625567323280887\n",
      "Average Precision Score on Test Data= 0.9431272923984771\n",
      "Average Recall Score on Train Data= 0.9564712738242153\n",
      "Average Recall Score on Test Data= 0.9348479767493851\n",
      "Average F1 Score on Train Data= 0.9593338753787297\n",
      "Average F1 Score on Test Data= 0.9381904595948448\n",
      "Average AUC on Train Data= 0.9958028246263539\n",
      "Average AUC on Test Data= 0.9908786049631119\n"
     ]
    }
   ],
   "source": [
    "acc_score_train=[]\n",
    "acc_score_test=[]\n",
    "pscore_train=[]\n",
    "pscore_test=[]\n",
    "rscore_train=[]\n",
    "rscore_test=[]\n",
    "f1score_train=[]\n",
    "f1score_test=[]\n",
    "auc_train=[]\n",
    "auc_test=[]\n",
    "for m in range(1,31):\n",
    "    malignant_data = df.loc[df[\"diagnosis\"] == 1]    \n",
    "    benign_data = df.loc[df[\"diagnosis\"] == 0]\n",
    "    test_data=pd.concat([malignant_data.sample(frac=0.2),benign_data.sample(frac=0.2)])\n",
    "    test_index=test_data.index\n",
    "    train_data=df.drop(index=test_index)\n",
    "    train_y=train_data.iloc[:,0:1]\n",
    "    train_x=train_data.iloc[:,1:31]\n",
    "    test_y=test_data.iloc[:,0:1]\n",
    "    test_x=test_data.iloc[:,1:31]\n",
    "    normalized_train_x=preprocessing.normalize(train_x)\n",
    "    normalized_test_x=preprocessing.normalize(test_x)\n",
    "    \n",
    "    C = np.logspace(-3, 3, 9)\n",
    "    svm_linear_model=svm.LinearSVC(penalty='l1',dual=False)\n",
    "    tuned_paramater=dict(C=C)\n",
    "    gscv=GridSearchCV(svm_linear_model, tuned_paramater, cv=5, n_jobs=-1)\n",
    "    gscv.fit(normalized_train_x,train_y)\n",
    "    best_c=gscv.best_estimator_.get_params()['C']\n",
    "\n",
    "    \n",
    "    cclf=CalibratedClassifierCV(gscv.best_estimator_)\n",
    "    cclf.fit(normalized_train_x,train_y)\n",
    "    ypred_train=cclf.predict(normalized_train_x)\n",
    "    ypred_test=cclf.predict(normalized_test_x)\n",
    "\n",
    "    acc_sc_train=cclf.score(normalized_train_x,train_y)\n",
    "    acc_sc_test=cclf.score(normalized_test_x,test_y)\n",
    "    acc_score_train.append(acc_sc_train)\n",
    "    acc_score_test.append(acc_sc_test)\n",
    "    avg_acc_score_train=np.mean(acc_score_train)\n",
    "    avg_acc_score_test=np.mean(acc_score_test)\n",
    "    \n",
    "    p_score_train=precision_score(train_y,ypred_train,average='macro')\n",
    "    p_score_test=precision_score(test_y,ypred_test,average='macro')\n",
    "    pscore_train.append(p_score_train)\n",
    "    pscore_test.append(p_score_test)\n",
    "    avg_pscore_train=np.mean(pscore_train)\n",
    "    avg_pscore_test=np.mean(pscore_test)\n",
    "    \n",
    "    r_score_train=recall_score(train_y,ypred_train,average='macro')\n",
    "    r_score_test=recall_score(test_y,ypred_test,average='macro')\n",
    "    rscore_train.append(r_score_train)\n",
    "    rscore_test.append(r_score_test)\n",
    "    avg_rscore_train=np.mean(rscore_train)\n",
    "    avg_rscore_test=np.mean(rscore_test)\n",
    "\n",
    "    f1_score_train=f1_score(train_y,ypred_train,average='macro')\n",
    "    f1_score_test=f1_score(test_y,ypred_test,average='macro')\n",
    "    f1score_train.append(f1_score_train)\n",
    "    f1score_test.append(f1_score_test)\n",
    "    avg_f1score_train=np.mean(f1score_train)\n",
    "    avg_f1score_test=np.mean(f1score_test)\n",
    "\n",
    "    yscore_train=cclf.predict_proba(normalized_train_x)\n",
    "    yscore_test=cclf.predict_proba(normalized_test_x)\n",
    "    auc_tr = roc_auc_score(train_y, yscore_train[:,1])\n",
    "    auc_te = roc_auc_score(test_y, yscore_test[:,1])\n",
    "    auc_train.append(auc_tr)\n",
    "    auc_test.append(auc_te)\n",
    "    avg_auc_train=np.mean(auc_train)\n",
    "    avg_auc_test=np.mean(auc_test)\n",
    "\n",
    "print(\"Average Accuracy Score on Train Data=\",avg_acc_score_train)\n",
    "print(\"Average Accuracy Score on Test Data=\",avg_acc_score_test)\n",
    "print(\"Average Precision Score on Train Data=\",avg_pscore_train)\n",
    "print(\"Average Precision Score on Test Data=\",avg_pscore_test)\n",
    "print(\"Average Recall Score on Train Data=\",avg_rscore_train)\n",
    "print(\"Average Recall Score on Test Data=\",avg_rscore_test)\n",
    "print(\"Average F1 Score on Train Data=\",avg_f1score_train)\n",
    "print(\"Average F1 Score on Test Data=\",avg_f1score_test)\n",
    "print(\"Average AUC on Train Data=\",avg_auc_train)\n",
    "print(\"Average AUC on Test Data=\",avg_auc_test)"
   ]
  },
  {
   "cell_type": "markdown",
   "metadata": {},
   "source": [
    "CalibratedClassifierCV reference from https://stackoverflow.com/questions/26478000/converting-linearsvcs-decision-function-to-probabilities-scikit-learn-python"
   ]
  },
  {
   "cell_type": "code",
   "execution_count": 730,
   "metadata": {},
   "outputs": [
    {
     "name": "stdout",
     "output_type": "stream",
     "text": [
      "Confusion Matrix on Train Data=\n",
      "[[280   6]\n",
      " [ 12 158]]\n"
     ]
    },
    {
     "data": {
      "text/plain": [
       "<matplotlib.legend.Legend at 0x250819536a0>"
      ]
     },
     "execution_count": 730,
     "metadata": {},
     "output_type": "execute_result"
    },
    {
     "data": {
      "image/png": "[encoded data removed]",
      "text/plain": [
       "<Figure size 432x288 with 1 Axes>"
      ]
     },
     "metadata": {
      "needs_background": "light"
     },
     "output_type": "display_data"
    }
   ],
   "source": [
    "print(\"Confusion Matrix on Train Data=\")\n",
    "print(confusion_matrix(train_y,ypred_train))\n",
    "\n",
    "fpr_train, tpr_train, threashold = roc_curve(train_y,yscore_train[:,1])\n",
    "area_under_the_curve = auc(fpr_train, tpr_train)\n",
    "plt.plot(fpr_train, tpr_train, label='ROC curve (area_under_the_curve = %0.2f)' % area_under_the_curve)\n",
    "plt.plot([0,1], [0,1], \"--\")\n",
    "plt.title(\"ROC Curve and AUC\")\n",
    "plt.xlabel(\"False Positive Rate\")\n",
    "plt.ylabel(\"True Positive Rate\")\n",
    "plt.legend(loc=\"lower right\")"
   ]
  },
  {
   "cell_type": "markdown",
   "metadata": {},
   "source": [
    "Here,the values for the confusion matrix are: True Negative=280,False Positive=6,False Negative=12,True Positive=158"
   ]
  },
  {
   "cell_type": "code",
   "execution_count": 731,
   "metadata": {},
   "outputs": [
    {
     "name": "stdout",
     "output_type": "stream",
     "text": [
      "Confusion Matrix on Test Data=\n",
      "[[71  0]\n",
      " [ 5 37]]\n"
     ]
    },
    {
     "data": {
      "text/plain": [
       "<matplotlib.legend.Legend at 0x250834f0048>"
      ]
     },
     "execution_count": 731,
     "metadata": {},
     "output_type": "execute_result"
    },
    {
     "data": {
      "image/png": "[encoded data removed]",
      "text/plain": [
       "<Figure size 432x288 with 1 Axes>"
      ]
     },
     "metadata": {
      "needs_background": "light"
     },
     "output_type": "display_data"
    }
   ],
   "source": [
    "print(\"Confusion Matrix on Test Data=\")\n",
    "print(confusion_matrix(test_y,ypred_test))\n",
    "\n",
    "fpr_test, tpr_test, threashold = roc_curve(test_y,yscore_test[:,1])\n",
    "area_under_the_curve = auc(fpr_test, tpr_test)\n",
    "plt.plot(fpr_test, tpr_test, label='ROC curve (area_under_the_curve = %0.2f)' % area_under_the_curve)\n",
    "plt.plot([0,1], [0,1], \"--\")\n",
    "plt.title(\"ROC Curve and AUC\")\n",
    "plt.xlabel(\"False Positive Rate\")\n",
    "plt.ylabel(\"True Positive Rate\")\n",
    "plt.legend(loc=\"lower right\")"
   ]
  },
  {
   "cell_type": "markdown",
   "metadata": {},
   "source": [
    "Here,the values for the confusion matrix are: True Negative=71,False Positive=0,False Negative=5,True Positive=37"
   ]
  },
  {
   "cell_type": "markdown",
   "metadata": {},
   "source": [
    "### (b) (ii) Monte-Carlo Simulation-Semi-Supervised Learning"
   ]
  },
  {
   "cell_type": "code",
   "execution_count": 732,
   "metadata": {},
   "outputs": [
    {
     "name": "stdout",
     "output_type": "stream",
     "text": [
      "Average Accuracy Score on Train Data= 0.921734036321031\n",
      "Average Accuracy Score on Test Data= 0.8427728613569324\n",
      "Average Precision Score on Train Data= 0.8924984309318053\n",
      "Average Precision Score on Test Data= 0.8487283689178413\n",
      "Average Recall Score on Train Data= 0.9220709740332729\n",
      "Average Recall Score on Test Data= 0.8418175720992622\n",
      "Average F1 Score on Train Data= 0.9000095929355151\n",
      "Average F1 Score on Test Data= 0.8323370939514542\n",
      "Average AUC on Train Data= 0.9861382481508343\n",
      "Average AUC on Test Data= 0.9468253968253969\n",
      "Wall time: 12min 15s\n"
     ]
    }
   ],
   "source": [
    "%%time\n",
    "acc_score_train=[]\n",
    "acc_score_test=[]\n",
    "pscore_train=[]\n",
    "pscore_test=[]\n",
    "rscore_train=[]\n",
    "rscore_test=[]\n",
    "f1score_train=[]\n",
    "f1score_test=[]\n",
    "auc_train=[]\n",
    "auc_test=[]\n",
    "for m in range(1,31):\n",
    "    malignant_df = df.loc[df[\"diagnosis\"] == 1]    \n",
    "    benign_df = df.loc[df[\"diagnosis\"] == 0]\n",
    "    train_df=pd.concat([malignant_df.sample(frac=0.5),benign_df.sample(frac=0.5)])\n",
    "    tr_index=train_df.index\n",
    "    unlabelled_x=df.drop(index=tr_index,columns='diagnosis')\n",
    "    semi_train_y=train_df.iloc[:,0:1].values\n",
    "    semi_train_x=train_df.iloc[:,1:31]\n",
    "    nlabelled_train_x=preprocessing.normalize(semi_train_x)\n",
    "\n",
    "    C = np.logspace(-3, 3, 9)\n",
    "    svm_linear_model=svm.LinearSVC(penalty='l1',dual=False)\n",
    "    tuned_paramater=dict(C=C)\n",
    "    gscv=GridSearchCV(svm_linear_model, tuned_paramater, cv=5, n_jobs=-1)\n",
    "    gscv.fit(nlabelled_train_x,semi_train_y)\n",
    "\n",
    "\n",
    "    y=gscv.decision_function(unlabelled_x)\n",
    "    while(len(y!=0)):\n",
    "        farthest_point_index=(np.absolute(y)).argmax()      # argmax() to get the indexes\n",
    "        unlabelled_x_datapoint=unlabelled_x.iloc[farthest_point_index]\n",
    "        reshaped_unlabelled_datapoint=unlabelled_x_datapoint.values.reshape(1,-1)\n",
    "        gscv.best_estimator_.fit(nlabelled_train_x,semi_train_y)\n",
    "        y_pred=gscv.predict(reshaped_unlabelled_datapoint)\n",
    "        semi_train_y=np.append(semi_train_y,y_pred)\n",
    "        nlabelled_train_x=np.append(nlabelled_train_x,reshaped_unlabelled_datapoint,axis=0)\n",
    "        y=np.delete(y,farthest_point_index)\n",
    "\n",
    "    cclf=CalibratedClassifierCV(gscv.best_estimator_)\n",
    "    cclf.fit(nlabelled_train_x,semi_train_y)\n",
    "    ypred_train=cclf.predict(nlabelled_train_x)\n",
    "    ypred_test=cclf.predict(normalized_test_x)\n",
    "       \n",
    "    acc_sc_train=cclf.score(nlabelled_train_x,semi_train_y)\n",
    "    acc_sc_test=cclf.score(normalized_test_x,test_y)\n",
    "    acc_score_train.append(acc_sc_train)\n",
    "    acc_score_test.append(acc_sc_test)\n",
    "    avg_acc_score_train=np.mean(acc_score_train)\n",
    "    avg_acc_score_test=np.mean(acc_score_test)\n",
    "    \n",
    "    p_score_train=precision_score(semi_train_y,ypred_train,average='macro')\n",
    "    p_score_test=precision_score(test_y,ypred_test,average='macro')\n",
    "    pscore_train.append(p_score_train)\n",
    "    pscore_test.append(p_score_test)\n",
    "    avg_pscore_train=np.mean(pscore_train)\n",
    "    avg_pscore_test=np.mean(pscore_test)\n",
    "    \n",
    "    r_score_train=recall_score(semi_train_y,ypred_train,average='macro')\n",
    "    r_score_test=recall_score(test_y,ypred_test,average='macro')\n",
    "    rscore_train.append(r_score_train)\n",
    "    rscore_test.append(r_score_test)\n",
    "    avg_rscore_train=np.mean(rscore_train)\n",
    "    avg_rscore_test=np.mean(rscore_test)\n",
    "\n",
    "    f1_score_train=f1_score(semi_train_y,ypred_train,average='macro')\n",
    "    f1_score_test=f1_score(test_y,ypred_test,average='macro')\n",
    "    f1score_train.append(f1_score_train)\n",
    "    f1score_test.append(f1_score_test)\n",
    "    avg_f1score_train=np.mean(f1score_train)\n",
    "    avg_f1score_test=np.mean(f1score_test)\n",
    "\n",
    "    yscore_train=cclf.predict_proba(nlabelled_train_x)\n",
    "    yscore_test=cclf.predict_proba(normalized_test_x)\n",
    "    auc_tr = roc_auc_score(semi_train_y, yscore_train[:,1])\n",
    "    auc_te = roc_auc_score(test_y, yscore_test[:,1])\n",
    "    auc_train.append(auc_tr)\n",
    "    auc_test.append(auc_te)\n",
    "    avg_auc_train=np.mean(auc_train)\n",
    "    avg_auc_test=np.mean(auc_test)\n",
    "\n",
    "print(\"Average Accuracy Score on Train Data=\",avg_acc_score_train)\n",
    "print(\"Average Accuracy Score on Test Data=\",avg_acc_score_test)\n",
    "print(\"Average Precision Score on Train Data=\",avg_pscore_train)\n",
    "print(\"Average Precision Score on Test Data=\",avg_pscore_test)\n",
    "print(\"Average Recall Score on Train Data=\",avg_rscore_train)\n",
    "print(\"Average Recall Score on Test Data=\",avg_rscore_test)\n",
    "print(\"Average F1 Score on Train Data=\",avg_f1score_train)\n",
    "print(\"Average F1 Score on Test Data=\",avg_f1score_test)\n",
    "print(\"Average AUC on Train Data=\",avg_auc_train)\n",
    "print(\"Average AUC on Test Data=\",avg_auc_test)"
   ]
  },
  {
   "cell_type": "code",
   "execution_count": 734,
   "metadata": {},
   "outputs": [
    {
     "name": "stdout",
     "output_type": "stream",
     "text": [
      "Confusion Matrix on Train Data=\n",
      "[[395  51]\n",
      " [  3 120]]\n"
     ]
    },
    {
     "data": {
      "text/plain": [
       "<matplotlib.legend.Legend at 0x2508460be80>"
      ]
     },
     "execution_count": 734,
     "metadata": {},
     "output_type": "execute_result"
    },
    {
     "data": {
      "image/png": "[encoded data removed]",
      "text/plain": [
       "<Figure size 432x288 with 1 Axes>"
      ]
     },
     "metadata": {
      "needs_background": "light"
     },
     "output_type": "display_data"
    }
   ],
   "source": [
    "print(\"Confusion Matrix on Train Data=\")\n",
    "print(confusion_matrix(semi_train_y,ypred_train))\n",
    "\n",
    "fpr_train, tpr_train, threashold = roc_curve(semi_train_y,yscore_train[:,1])\n",
    "area_under_the_curve = auc(fpr_train, tpr_train)\n",
    "plt.plot(fpr_train, tpr_train, label='ROC curve (area_under_the_curve = %0.2f)' % area_under_the_curve)\n",
    "plt.plot([0,1], [0,1], \"--\")\n",
    "plt.title(\"ROC Curve and AUC\")\n",
    "plt.xlabel(\"False Positive Rate\")\n",
    "plt.ylabel(\"True Positive Rate\")\n",
    "plt.legend(loc=\"lower right\")"
   ]
  },
  {
   "cell_type": "markdown",
   "metadata": {},
   "source": [
    "Here,the values for the confusion matrix are: True Negative=395,False Positive=51,False Negative=3,True Positive=120\n",
    "\n",
    "decision_function reference from https://stackoverflow.com/questions/32074239/sklearn-getting-distance-of-each-point-from-decision-boundary"
   ]
  },
  {
   "cell_type": "code",
   "execution_count": 735,
   "metadata": {},
   "outputs": [
    {
     "name": "stdout",
     "output_type": "stream",
     "text": [
      "Confusion Matrix on Test Data=\n",
      "[[56 15]\n",
      " [ 2 40]]\n"
     ]
    },
    {
     "data": {
      "text/plain": [
       "<matplotlib.legend.Legend at 0x25084529860>"
      ]
     },
     "execution_count": 735,
     "metadata": {},
     "output_type": "execute_result"
    },
    {
     "data": {
      "image/png": "[encoded data removed]",
      "text/plain": [
       "<Figure size 432x288 with 1 Axes>"
      ]
     },
     "metadata": {
      "needs_background": "light"
     },
     "output_type": "display_data"
    }
   ],
   "source": [
    "print(\"Confusion Matrix on Test Data=\")\n",
    "print(confusion_matrix(test_y,ypred_test))\n",
    "\n",
    "fpr_test, tpr_test, threashold = roc_curve(test_y,yscore_test[:,1])\n",
    "area_under_the_curve = auc(fpr_test, tpr_test)\n",
    "plt.plot(fpr_test, tpr_test, label='ROC curve (area_under_the_curve = %0.2f)' % area_under_the_curve)\n",
    "plt.plot([0,1], [0,1], \"--\")\n",
    "plt.title(\"ROC Curve and AUC\")\n",
    "plt.xlabel(\"False Positive Rate\")\n",
    "plt.ylabel(\"True Positive Rate\")\n",
    "plt.legend(loc=\"lower right\")"
   ]
  },
  {
   "cell_type": "markdown",
   "metadata": {},
   "source": [
    "Here,the values for the confusion matrix are: True Negative=56,False Positive=15,False Negative=2,True Positive=40"
   ]
  },
  {
   "cell_type": "markdown",
   "metadata": {},
   "source": [
    "### (b) (iii) Monte-Carlo Simulation-Unsupervised Learning"
   ]
  },
  {
   "cell_type": "markdown",
   "metadata": {},
   "source": [
    "We run the algorithm multiple times with different inital centroild values to ensure that it is not trapped in a local minimum. I have used init='random' which chooses initial centroids from the data randomly. Additionally, I have used n_init=100 which means the algorithm will be run with different centroid seed 100 times. "
   ]
  },
  {
   "cell_type": "code",
   "execution_count": 736,
   "metadata": {},
   "outputs": [
    {
     "name": "stdout",
     "output_type": "stream",
     "text": [
      "Average Accuracy Score on Train Data= 0.8869152046783627\n",
      "Average Accuracy Score on Test Data= 0.8787610619469027\n",
      "Average Precision Score on Train Data= 0.9584865133297584\n",
      "Average Precision Score on Test Data= 0.9679303354119325\n",
      "Average Recall Score on Train Data= 0.7286274509803923\n",
      "Average Recall Score on Test Data= 0.6976190476190476\n",
      "Average F1 Score on Train Data= 0.8275342235103457\n",
      "Average F1 Score on Test Data= 0.8087734593178963\n",
      "Average AUC on Train Data= 0.8548148909913617\n",
      "Average AUC on Test Data= 0.841767270288397\n",
      "Wall time: 20 s\n"
     ]
    }
   ],
   "source": [
    "%%time\n",
    "from sklearn.cluster import KMeans\n",
    "from sklearn.neighbors import NearestNeighbors\n",
    "acc_score_train=[]\n",
    "acc_score_test=[]\n",
    "pscore_train=[]\n",
    "pscore_test=[]\n",
    "rscore_train=[]\n",
    "rscore_test=[]\n",
    "f1score_train=[]\n",
    "f1score_test=[]\n",
    "auc_train=[]\n",
    "auc_test=[]\n",
    "\n",
    "for m in range(1,31):\n",
    "    y_pred_test=[]\n",
    "    mali_data = df.loc[df[\"diagnosis\"] == 1]    \n",
    "    beni_data = df.loc[df[\"diagnosis\"] == 0]\n",
    "    test_data=pd.concat([mali_data.sample(frac=0.2),beni_data.sample(frac=0.2)])\n",
    "    test_index=test_data.index\n",
    "    train_data=df.drop(index=test_index)\n",
    "    y_train=train_data.iloc[:,0:1]\n",
    "    x_train=train_data.iloc[:,1:31]\n",
    "    y_test=test_data.iloc[:,0:1]\n",
    "    x_test=test_data.iloc[:,1:31]\n",
    "    x_train=preprocessing.normalize(x_train)\n",
    "    normalized_x_test=preprocessing.normalize(x_test)\n",
    "    kmeans = KMeans(n_clusters=2, init='random', max_iter=100,n_jobs=-1,n_init=100)\n",
    "    kmeans.fit(x_train)\n",
    "    # Finding the 30 nearest neighbours using NearestNeighbours\n",
    "    nbrs = NearestNeighbors(n_neighbors=30, algorithm='auto')\n",
    "    nbrs.fit(x_train)\n",
    "    distance_from_centroid,point_index=nbrs.kneighbors(kmeans.cluster_centers_)  #cluster centroid found by using kmeans.cluster_centeres\n",
    "    # Reading the true labels of the 30 datapoints for the train set\n",
    "    true_label_cluster0=y_train.iloc[point_index[0]]\n",
    "    true_label_cluster1=y_train.iloc[point_index[1]]    \n",
    "    # Majority polling for the cluster label\n",
    "    majority_cluster0=true_label_cluster0['diagnosis'].value_counts().idxmax()\n",
    "    majority_cluster1=true_label_cluster1['diagnosis'].value_counts().idxmax()\n",
    "    # Assigning the labels for each k means cluster\n",
    "    df_1 = pd.DataFrame()\n",
    "    df_1['Index'] = train_data.index.values\n",
    "    df_1['Cluster'] = kmeans.labels_\n",
    "    cluster0_index = df_1[df_1['Cluster']==0]['Index'].values    \n",
    "    cluster1_index =  df_1[df_1['Cluster']==1]['Index'].values\n",
    "    df_2=pd.DataFrame()\n",
    "    df_3=train_data.append(df_2)\n",
    "    df_3.loc[cluster0_index,'diagnosis']=majority_cluster0\n",
    "    df_3.loc[cluster1_index,'diagnosis']=majority_cluster1\n",
    "    y_true_train=y_train.values\n",
    "    y_pred_train=df_3['diagnosis'].values\n",
    "    y_true_test=y_test.values\n",
    "    # Predict the lables for the test set\n",
    "    y_predict=kmeans.predict(x_test)\n",
    "    # Assign the majority class of the train dataset clusters to test dataset clusters\n",
    "    for i in range(len(y_predict)):\n",
    "        if y_predict[i]==0:\n",
    "            y_pred_test.append(majority_cluster0)\n",
    "        else:\n",
    "            y_pred_test.append(majority_cluster1)\n",
    "    y_pred_test=np.array(y_pred_test)\n",
    " \n",
    "    acc_sc_train=accuracy_score(y_true_train,y_pred_train)\n",
    "    acc_score_train.append(acc_sc_train)\n",
    "    acc_sc_test=accuracy_score(y_true_test,y_pred_test)\n",
    "    acc_score_test.append(acc_sc_test)\n",
    "    \n",
    "    p_score_train=precision_score(y_true_train,y_pred_train)\n",
    "    pscore_train.append(p_score_train)\n",
    "    p_score_test=precision_score(y_true_test,y_pred_test)\n",
    "    pscore_test.append(p_score_test)\n",
    "    \n",
    "    r_score_train=recall_score(y_true_train,y_pred_train)\n",
    "    rscore_train.append(r_score_train)\n",
    "    r_score_test=recall_score(y_true_test,y_pred_test)\n",
    "    rscore_test.append(r_score_test)\n",
    "\n",
    "    f1_score_train=f1_score(y_true_train,y_pred_train)\n",
    "    f1score_train.append(f1_score_train)\n",
    "    f1_score_test=f1_score(y_true_test,y_pred_test)\n",
    "    f1score_test.append(f1_score_test)\n",
    "   \n",
    "    auc_tr = roc_auc_score(y_true_train,y_pred_train)\n",
    "    auc_train.append(auc_tr)\n",
    "    auc_te = roc_auc_score(y_true_test,y_pred_test)\n",
    "    auc_test.append(auc_te)\n",
    "    \n",
    "print(\"Average Accuracy Score on Train Data=\",np.mean(acc_score_train))\n",
    "print(\"Average Accuracy Score on Test Data=\",np.mean(acc_score_test))\n",
    "print(\"Average Precision Score on Train Data=\",np.mean(pscore_train))\n",
    "print(\"Average Precision Score on Test Data=\",np.mean(pscore_test))\n",
    "print(\"Average Recall Score on Train Data=\",np.mean(rscore_train))\n",
    "print(\"Average Recall Score on Test Data=\",np.mean(rscore_test))\n",
    "print(\"Average F1 Score on Train Data=\",np.mean(f1score_train))\n",
    "print(\"Average F1 Score on Test Data=\",np.mean(f1score_test))\n",
    "print(\"Average AUC on Train Data=\",np.mean(auc_train))\n",
    "print(\"Average AUC on Test Data=\",np.mean(auc_test))\n"
   ]
  },
  {
   "cell_type": "code",
   "execution_count": 737,
   "metadata": {},
   "outputs": [
    {
     "name": "stdout",
     "output_type": "stream",
     "text": [
      "Confusion Matrix on Train Data=\n",
      "[[284   2]\n",
      " [ 48 122]]\n"
     ]
    },
    {
     "data": {
      "text/plain": [
       "<matplotlib.legend.Legend at 0x250844d2080>"
      ]
     },
     "execution_count": 737,
     "metadata": {},
     "output_type": "execute_result"
    },
    {
     "data": {
      "image/png": "[encoded data removed]",
      "text/plain": [
       "<Figure size 432x288 with 1 Axes>"
      ]
     },
     "metadata": {
      "needs_background": "light"
     },
     "output_type": "display_data"
    }
   ],
   "source": [
    "print(\"Confusion Matrix on Train Data=\")\n",
    "print(confusion_matrix(y_true_train,y_pred_train))\n",
    "\n",
    "fpr_train, tpr_train, threashold = roc_curve(y_true_train,y_pred_train)\n",
    "area_under_the_curve = auc(fpr_train, tpr_train)\n",
    "plt.plot(fpr_train, tpr_train, label='ROC curve (area_under_the_curve = %0.2f)' % area_under_the_curve)\n",
    "plt.plot([0,1], [0,1], \"--\")\n",
    "plt.title(\"ROC Curve and AUC\")\n",
    "plt.xlabel(\"False Positive Rate\")\n",
    "plt.ylabel(\"True Positive Rate\")\n",
    "plt.legend(loc=\"lower right\")"
   ]
  },
  {
   "cell_type": "markdown",
   "metadata": {},
   "source": [
    "Here,the values for the confusion matrix are: True Negative=284,False Positive=2,False Negative=48,True Positive=122"
   ]
  },
  {
   "cell_type": "code",
   "execution_count": 738,
   "metadata": {},
   "outputs": [
    {
     "name": "stdout",
     "output_type": "stream",
     "text": [
      "Confusion Matrix on Test Data=\n",
      "[[70  1]\n",
      " [19 23]]\n"
     ]
    },
    {
     "data": {
      "text/plain": [
       "<matplotlib.legend.Legend at 0x25084296da0>"
      ]
     },
     "execution_count": 738,
     "metadata": {},
     "output_type": "execute_result"
    },
    {
     "data": {
      "image/png": "[encoded data removed]",
      "text/plain": [
       "<Figure size 432x288 with 1 Axes>"
      ]
     },
     "metadata": {
      "needs_background": "light"
     },
     "output_type": "display_data"
    }
   ],
   "source": [
    "print(\"Confusion Matrix on Test Data=\")\n",
    "print(confusion_matrix(y_true_test,y_pred_test))\n",
    "\n",
    "fpr_train, tpr_train, threashold = roc_curve(y_true_test,y_pred_test)\n",
    "area_under_the_curve = auc(fpr_train, tpr_train)\n",
    "plt.plot(fpr_train, tpr_train, label='ROC curve (area_under_the_curve = %0.2f)' % area_under_the_curve)\n",
    "plt.plot([0,1], [0,1], \"--\")\n",
    "plt.title(\"ROC Curve and AUC\")\n",
    "plt.xlabel(\"False Positive Rate\")\n",
    "plt.ylabel(\"True Positive Rate\")\n",
    "plt.legend(loc=\"lower right\")"
   ]
  },
  {
   "cell_type": "markdown",
   "metadata": {},
   "source": [
    "Here,the values for the confusion matrix are: True Negative=70,False Positive=1,False Negative=19,True Positive=23"
   ]
  },
  {
   "cell_type": "markdown",
   "metadata": {},
   "source": [
    "### (b) (iv) Monte-Carlo Simulation-Spectral Clustering"
   ]
  },
  {
   "cell_type": "markdown",
   "metadata": {},
   "source": [
    "In practice Spectral Clustering is very useful when the structure of the individual clusters is highly non-convex or more generally when a measure of the center and spread of the cluster is not a suitable description of the complete cluster. For instance when clusters are nested circles on the 2D plane.\n",
    "\n",
    "SpectralClustering requires the number of clusters to be specified. It works well for a small number of clusters but is not advised when using many clusters.\n",
    "\n",
    "reference from https://scikit-learn.org/stable/modules/generated/sklearn.cluster.SpectralClustering.html"
   ]
  },
  {
   "cell_type": "code",
   "execution_count": 848,
   "metadata": {},
   "outputs": [
    {
     "name": "stdout",
     "output_type": "stream",
     "text": [
      "Average Accuracy Score on Train Data= 0.8817982456140352\n",
      "Average Accuracy Score on Test Data= 0.6321533923303836\n",
      "Average Precision Score on Train Data= 0.9596949432024208\n",
      "Average Precision Score on Test Data= 0.6805308186996513\n",
      "Average Recall Score on Train Data= 0.7129411764705884\n",
      "Average Recall Score on Test Data= 0.5865079365079365\n",
      "Average F1 Score on Train Data= 0.8179749341555572\n",
      "Average F1 Score on Test Data= 0.6148606548078324\n",
      "Average AUC on Train Data= 0.8475545043192104\n",
      "Average AUC on Test Data= 0.6228314330427007\n"
     ]
    }
   ],
   "source": [
    "from sklearn.cluster import SpectralClustering\n",
    "import random\n",
    "pred_index0=[]\n",
    "pred_index1=[]\n",
    "acc_score_train=[]\n",
    "acc_score_test=[]\n",
    "pscore_train=[]\n",
    "pscore_test=[]\n",
    "rscore_train=[]\n",
    "rscore_test=[]\n",
    "f1score_train=[]\n",
    "f1score_test=[]\n",
    "auc_train=[]\n",
    "auc_test=[]\n",
    "for m in range(1,31):\n",
    "    malignant_data = df.loc[df[\"diagnosis\"] == 1]    \n",
    "    benign_data = df.loc[df[\"diagnosis\"] == 0]\n",
    "    test_data=pd.concat([malignant_data.sample(frac=0.2),benign_data.sample(frac=0.2)])\n",
    "    test_index=test_data.index\n",
    "    train_data=df.drop(index=test_index)\n",
    "    train_y=train_data.iloc[:,0:1]\n",
    "    train_x=train_data.iloc[:,1:31]\n",
    "    test_y=test_data.iloc[:,0:1]\n",
    "    test_x=test_data.iloc[:,1:31]\n",
    "    normalized_train_x=preprocessing.normalize(train_x)\n",
    "    normalized_test_x=preprocessing.normalize(test_x)\n",
    "\n",
    "    clustering = SpectralClustering(n_clusters=2, gamma=1, affinity='rbf', assign_labels=\"kmeans\", n_jobs=-1)\n",
    "    y_pred=clustering.fit_predict(normalized_train_x)\n",
    "    ypred=clustering.fit_predict(normalized_test_x)\n",
    "    # Finding the index positions of labels 0 and 1\n",
    "    for i in range(len(y_pred)):\n",
    "        if y_pred[i]==0:\n",
    "            pred_index0 = np.where(y_pred==0)[0]\n",
    "        else:\n",
    "            pred_index1 = np.where(y_pred==1)[0]\n",
    "    # Selecting 30 points randomly from each label\n",
    "    random_sample0_index = random.choices(pred_index0, k=30)\n",
    "    random_sample1_index = random.choices(pred_index1, k=30)\n",
    "    # Finding the true labels of the 30 samples from train_y\n",
    "    true_label_cluster0=train_y.iloc[random_sample0_index]\n",
    "    true_label_cluster1=train_y.iloc[random_sample1_index] \n",
    "    # Determining the majority class of the true labels\n",
    "    majority_cluster0=true_label_cluster0['diagnosis'].value_counts().idxmax()\n",
    "    majority_cluster1=true_label_cluster1['diagnosis'].value_counts().idxmax()\n",
    "    # Assigning the labels for each spectral cluster for train data\n",
    "    df_4 = pd.DataFrame()\n",
    "    df_4['Index'] = train_data.index.values\n",
    "    df_4['Cluster'] = y_pred\n",
    "    cluster0_index = df_4[df_4['Cluster']==0]['Index'].values    \n",
    "    cluster1_index =  df_4[df_4['Cluster']==1]['Index'].values\n",
    "    df_5=pd.DataFrame()\n",
    "    df_s=train_data.append(df_5)\n",
    "    df_s.loc[cluster0_index,'diagnosis']=majority_cluster0\n",
    "    df_s.loc[cluster1_index,'diagnosis']=majority_cluster1\n",
    "    y_true_train=train_y.values\n",
    "    y_pred_train=df_s['diagnosis'].values\n",
    "    \n",
    "    # Assigning the labels for each spectral cluster for test data\n",
    "    df_6 = pd.DataFrame()\n",
    "    df_6['Index'] = test_data.index.values\n",
    "    df_6['Cluster'] = ypred\n",
    "    cluster0_index_test = df_6[df_6['Cluster']==0]['Index'].values    \n",
    "    cluster1_index_test =  df_6[df_6['Cluster']==1]['Index'].values\n",
    "\n",
    "    df_7=pd.DataFrame()\n",
    "    df_s_test=test_data.append(df_7)\n",
    "    df_s_test.loc[cluster0_index_test,'diagnosis']=majority_cluster0\n",
    "    df_s_test.loc[cluster1_index_test,'diagnosis']=majority_cluster1\n",
    "    y_true_test=test_y.values\n",
    "    y_pred_test=df_s_test['diagnosis'].values\n",
    "\n",
    "    acc_sc_train=accuracy_score(y_true_train,y_pred_train)\n",
    "    acc_score_train.append(acc_sc_train)\n",
    "    acc_sc_test=accuracy_score(y_true_test,y_pred_test)\n",
    "    acc_score_test.append(acc_sc_test)\n",
    "    \n",
    "    p_score_train=precision_score(y_true_train,y_pred_train)\n",
    "    pscore_train.append(p_score_train)\n",
    "    p_score_test=precision_score(y_true_test,y_pred_test)\n",
    "    pscore_test.append(p_score_test)\n",
    "    \n",
    "    r_score_train=recall_score(y_true_train,y_pred_train)\n",
    "    rscore_train.append(r_score_train)\n",
    "    r_score_test=recall_score(y_true_test,y_pred_test)\n",
    "    rscore_test.append(r_score_test)\n",
    "\n",
    "    f1_score_train=f1_score(y_true_train,y_pred_train)\n",
    "    f1score_train.append(f1_score_train)\n",
    "    f1_score_test=f1_score(y_true_test,y_pred_test)\n",
    "    f1score_test.append(f1_score_test)\n",
    "   \n",
    "    auc_tr = roc_auc_score(y_true_train,y_pred_train)\n",
    "    auc_train.append(auc_tr)\n",
    "    auc_te = roc_auc_score(y_true_test,y_pred_test)\n",
    "    auc_test.append(auc_te)\n",
    "    \n",
    "print(\"Average Accuracy Score on Train Data=\",np.mean(acc_score_train))\n",
    "print(\"Average Accuracy Score on Test Data=\",np.mean(acc_score_test))\n",
    "print(\"Average Precision Score on Train Data=\",np.mean(pscore_train))\n",
    "print(\"Average Precision Score on Test Data=\",np.mean(pscore_test))\n",
    "print(\"Average Recall Score on Train Data=\",np.mean(rscore_train))\n",
    "print(\"Average Recall Score on Test Data=\",np.mean(rscore_test))\n",
    "print(\"Average F1 Score on Train Data=\",np.mean(f1score_train))\n",
    "print(\"Average F1 Score on Test Data=\",np.mean(f1score_test))\n",
    "print(\"Average AUC on Train Data=\",np.mean(auc_train))\n",
    "print(\"Average AUC on Test Data=\",np.mean(auc_test))"
   ]
  },
  {
   "cell_type": "code",
   "execution_count": 849,
   "metadata": {},
   "outputs": [
    {
     "name": "stdout",
     "output_type": "stream",
     "text": [
      "Confusion Matrix on Train Data=\n",
      "[[280   6]\n",
      " [ 48 122]]\n"
     ]
    },
    {
     "data": {
      "text/plain": [
       "<matplotlib.legend.Legend at 0x250895408d0>"
      ]
     },
     "execution_count": 849,
     "metadata": {},
     "output_type": "execute_result"
    },
    {
     "data": {
      "image/png": "[encoded data removed]",
      "text/plain": [
       "<Figure size 432x288 with 1 Axes>"
      ]
     },
     "metadata": {
      "needs_background": "light"
     },
     "output_type": "display_data"
    }
   ],
   "source": [
    "print(\"Confusion Matrix on Train Data=\")\n",
    "print(confusion_matrix(y_true_train,y_pred_train))\n",
    "\n",
    "fpr_train, tpr_train, threashold = roc_curve(y_true_train,y_pred_train)\n",
    "area_under_the_curve = auc(fpr_train, tpr_train)\n",
    "plt.plot(fpr_train, tpr_train, label='ROC curve (area_under_the_curve = %0.2f)' % area_under_the_curve)\n",
    "plt.plot([0,1], [0,1], \"--\")\n",
    "plt.title(\"ROC Curve and AUC\")\n",
    "plt.xlabel(\"False Positive Rate\")\n",
    "plt.ylabel(\"True Positive Rate\")\n",
    "plt.legend(loc=\"lower right\")"
   ]
  },
  {
   "cell_type": "markdown",
   "metadata": {},
   "source": [
    "Here,the values for the confusion matrix are: True Negative=280,False Positive=6,False Negative=48,True Positive=122"
   ]
  },
  {
   "cell_type": "code",
   "execution_count": 850,
   "metadata": {},
   "outputs": [
    {
     "name": "stdout",
     "output_type": "stream",
     "text": [
      "Confusion Matrix on Test Data=\n",
      "[[71  0]\n",
      " [12 30]]\n"
     ]
    },
    {
     "data": {
      "text/plain": [
       "<matplotlib.legend.Legend at 0x25088db71d0>"
      ]
     },
     "execution_count": 850,
     "metadata": {},
     "output_type": "execute_result"
    },
    {
     "data": {
      "image/png": "[encoded data removed]",
      "text/plain": [
       "<Figure size 432x288 with 1 Axes>"
      ]
     },
     "metadata": {
      "needs_background": "light"
     },
     "output_type": "display_data"
    }
   ],
   "source": [
    "print(\"Confusion Matrix on Test Data=\")\n",
    "print(confusion_matrix(y_true_test,y_pred_test))\n",
    "\n",
    "fpr_train, tpr_train, threashold = roc_curve(y_true_test,y_pred_test)\n",
    "area_under_the_curve = auc(fpr_train, tpr_train)\n",
    "plt.plot(fpr_train, tpr_train, label='ROC curve (area_under_the_curve = %0.2f)' % area_under_the_curve)\n",
    "plt.plot([0,1], [0,1], \"--\")\n",
    "plt.title(\"ROC Curve and AUC\")\n",
    "plt.xlabel(\"False Positive Rate\")\n",
    "plt.ylabel(\"True Positive Rate\")\n",
    "plt.legend(loc=\"lower right\")"
   ]
  },
  {
   "cell_type": "markdown",
   "metadata": {},
   "source": [
    "Here,the values for the confusion matrix are: True Negative=71,False Positive=0,False Negative=12,True Positive=30"
   ]
  },
  {
   "cell_type": "markdown",
   "metadata": {},
   "source": [
    "### (b) (v) Monte-Carlo Simulation-Results"
   ]
  },
  {
   "cell_type": "code",
   "execution_count": 856,
   "metadata": {},
   "outputs": [
    {
     "data": {
      "text/html": [
       "<div>\n",
       "<style scoped>\n",
       "    .dataframe tbody tr th:only-of-type {\n",
       "        vertical-align: middle;\n",
       "    }\n",
       "\n",
       "    .dataframe tbody tr th {\n",
       "        vertical-align: top;\n",
       "    }\n",
       "\n",
       "    .dataframe thead th {\n",
       "        text-align: right;\n",
       "    }\n",
       "</style>\n",
       "<table border=\"1\" class=\"dataframe\">\n",
       "  <thead>\n",
       "    <tr style=\"text-align: right;\">\n",
       "      <th></th>\n",
       "      <th>Supervised</th>\n",
       "      <th>Semi-Supervised</th>\n",
       "      <th>Unsupervised(K-means)</th>\n",
       "      <th>Spectral Clustering</th>\n",
       "    </tr>\n",
       "  </thead>\n",
       "  <tbody>\n",
       "    <tr>\n",
       "      <th>Accuracy Score</th>\n",
       "      <td>0.962</td>\n",
       "      <td>0.922</td>\n",
       "      <td>0.887</td>\n",
       "      <td>0.882</td>\n",
       "    </tr>\n",
       "    <tr>\n",
       "      <th>Precision Score</th>\n",
       "      <td>0.963</td>\n",
       "      <td>0.892</td>\n",
       "      <td>0.958</td>\n",
       "      <td>0.960</td>\n",
       "    </tr>\n",
       "    <tr>\n",
       "      <th>Recall Score</th>\n",
       "      <td>0.956</td>\n",
       "      <td>0.922</td>\n",
       "      <td>0.729</td>\n",
       "      <td>0.713</td>\n",
       "    </tr>\n",
       "    <tr>\n",
       "      <th>F1 Score</th>\n",
       "      <td>0.959</td>\n",
       "      <td>0.900</td>\n",
       "      <td>0.828</td>\n",
       "      <td>0.818</td>\n",
       "    </tr>\n",
       "    <tr>\n",
       "      <th>AUC</th>\n",
       "      <td>0.996</td>\n",
       "      <td>0.986</td>\n",
       "      <td>0.855</td>\n",
       "      <td>0.848</td>\n",
       "    </tr>\n",
       "  </tbody>\n",
       "</table>\n",
       "</div>"
      ],
      "text/plain": [
       "                 Supervised  Semi-Supervised  Unsupervised(K-means)  \\\n",
       "Accuracy Score        0.962            0.922                  0.887   \n",
       "Precision Score       0.963            0.892                  0.958   \n",
       "Recall Score          0.956            0.922                  0.729   \n",
       "F1 Score              0.959            0.900                  0.828   \n",
       "AUC                   0.996            0.986                  0.855   \n",
       "\n",
       "                 Spectral Clustering  \n",
       "Accuracy Score                 0.882  \n",
       "Precision Score                0.960  \n",
       "Recall Score                   0.713  \n",
       "F1 Score                       0.818  \n",
       "AUC                            0.848  "
      ]
     },
     "execution_count": 856,
     "metadata": {},
     "output_type": "execute_result"
    }
   ],
   "source": [
    "df_results_train=pd.DataFrame({'Supervised':[0.962,0.963,0.956,0.959,0.996],'Semi-Supervised':[0.922,0.892,0.922,0.900,0.986],\n",
    "                'Unsupervised(K-means)':[0.887,0.958,0.729,0.828,0.855],'Spectral Clustering':[0.882,0.960,0.713,0.818,0.848]}, \n",
    "                index=['Accuracy Score','Precision Score','Recall Score','F1 Score','AUC'])\n",
    "df_results_train"
   ]
  },
  {
   "cell_type": "markdown",
   "metadata": {},
   "source": [
    "We can observe that Supervised Learning gives us the best results followed by Semi-Supervised Learning for training data. K-means Clustering and Spectral Clustering almost give the same result, K-means is slightly better. "
   ]
  },
  {
   "cell_type": "code",
   "execution_count": 859,
   "metadata": {},
   "outputs": [
    {
     "data": {
      "text/html": [
       "<div>\n",
       "<style scoped>\n",
       "    .dataframe tbody tr th:only-of-type {\n",
       "        vertical-align: middle;\n",
       "    }\n",
       "\n",
       "    .dataframe tbody tr th {\n",
       "        vertical-align: top;\n",
       "    }\n",
       "\n",
       "    .dataframe thead th {\n",
       "        text-align: right;\n",
       "    }\n",
       "</style>\n",
       "<table border=\"1\" class=\"dataframe\">\n",
       "  <thead>\n",
       "    <tr style=\"text-align: right;\">\n",
       "      <th></th>\n",
       "      <th>Supervised</th>\n",
       "      <th>Semi-Supervised</th>\n",
       "      <th>Unsupervised(K-means)</th>\n",
       "      <th>Spectral Clustering</th>\n",
       "    </tr>\n",
       "  </thead>\n",
       "  <tbody>\n",
       "    <tr>\n",
       "      <th>Accuracy Score</th>\n",
       "      <td>0.943</td>\n",
       "      <td>0.842</td>\n",
       "      <td>0.879</td>\n",
       "      <td>0.632</td>\n",
       "    </tr>\n",
       "    <tr>\n",
       "      <th>Precision Score</th>\n",
       "      <td>0.943</td>\n",
       "      <td>0.849</td>\n",
       "      <td>0.968</td>\n",
       "      <td>0.681</td>\n",
       "    </tr>\n",
       "    <tr>\n",
       "      <th>Recall Score</th>\n",
       "      <td>0.935</td>\n",
       "      <td>0.842</td>\n",
       "      <td>0.698</td>\n",
       "      <td>0.587</td>\n",
       "    </tr>\n",
       "    <tr>\n",
       "      <th>F1 Score</th>\n",
       "      <td>0.938</td>\n",
       "      <td>0.832</td>\n",
       "      <td>0.809</td>\n",
       "      <td>0.615</td>\n",
       "    </tr>\n",
       "    <tr>\n",
       "      <th>AUC</th>\n",
       "      <td>0.991</td>\n",
       "      <td>0.947</td>\n",
       "      <td>0.842</td>\n",
       "      <td>0.623</td>\n",
       "    </tr>\n",
       "  </tbody>\n",
       "</table>\n",
       "</div>"
      ],
      "text/plain": [
       "                 Supervised  Semi-Supervised  Unsupervised(K-means)  \\\n",
       "Accuracy Score        0.943            0.842                  0.879   \n",
       "Precision Score       0.943            0.849                  0.968   \n",
       "Recall Score          0.935            0.842                  0.698   \n",
       "F1 Score              0.938            0.832                  0.809   \n",
       "AUC                   0.991            0.947                  0.842   \n",
       "\n",
       "                 Spectral Clustering  \n",
       "Accuracy Score                 0.632  \n",
       "Precision Score                0.681  \n",
       "Recall Score                   0.587  \n",
       "F1 Score                       0.615  \n",
       "AUC                            0.623  "
      ]
     },
     "execution_count": 859,
     "metadata": {},
     "output_type": "execute_result"
    }
   ],
   "source": [
    "df_results_test=pd.DataFrame({'Supervised':[0.943,0.943,0.935,0.938,0.991],'Semi-Supervised':[0.842,0.849,0.842,0.832,0.947],\n",
    "                'Unsupervised(K-means)':[0.879,0.968,0.698,0.809,0.842],'Spectral Clustering':[0.632,0.681,0.587,0.615,0.623]},\n",
    "                index=['Accuracy Score','Precision Score','Recall Score','F1 Score','AUC'])\n",
    "df_results_test"
   ]
  },
  {
   "cell_type": "markdown",
   "metadata": {},
   "source": [
    "We get the best test results from Supervised Learning followed by Semi-Supervised Learning. As expected Unsupervised Learning underperforms especially in the case of Spectral clustering. "
   ]
  }
 ],
 "metadata": {
  "kernelspec": {
   "display_name": "Python 3",
   "language": "python",
   "name": "python3"
  },
  "language_info": {
   "codemirror_mode": {
    "name": "ipython",
    "version": 3
   },
   "file_extension": ".py",
   "mimetype": "text/x-python",
   "name": "python",
   "nbconvert_exporter": "python",
   "pygments_lexer": "ipython3",
   "version": "3.7.3"
  }
 },
 "nbformat": 4,
 "nbformat_minor": 2
}
